{
 "cells": [
  {
   "metadata": {},
   "cell_type": "markdown",
   "source": "# 类",
   "id": "fd9e4170ac2f7c83"
  },
  {
   "metadata": {},
   "cell_type": "markdown",
   "source": "## 1创建和使用类",
   "id": "68dd097c46afed6a"
  },
  {
   "metadata": {},
   "cell_type": "markdown",
   "source": "### 1、1创建Dog类",
   "id": "d3649d27662f5a83"
  },
  {
   "metadata": {
    "ExecuteTime": {
     "end_time": "2025-05-13T12:35:40.636067Z",
     "start_time": "2025-05-13T12:35:40.632065Z"
    }
   },
   "cell_type": "code",
   "source": [
    "# class Dog:      #约定俗成单词首字母大写的为类名\n",
    "#     \"\"\"一次模拟小狗的简单尝试\"\"\"       #文档字符串说明类\n",
    "# \n",
    "#     \"\"\"\n",
    "#         __init__（）方法：\n",
    "#         一个特殊方法，每次建立实例就会运行一次;\n",
    "#         包含三个形参：self、name、age\n",
    "#         self自动传递到类中的方法和属性，所以必须有self形参而且必须在第一个\n",
    "#         注意注意！！！是双下划线        \n",
    "#     \"\"\"\n",
    "# \n",
    "#     def __init__(self,name,age):      \n",
    "#         \"\"\"初始化属性name和age\"\"\"\n",
    "#         self.name=name      #属性\n",
    "#         self.age=age        #以self开头的变量可以在整个类中使用\n",
    "#     def sit(self):\n",
    "#         \"\"\"收到命令坐下\"\"\"\n",
    "#         print(f\"{self.name} is now sitting\")\n",
    "#     def roll_over(self):\n",
    "#         \"\"\"收到命令打滚\"\"\"\n",
    "#         print(f\"{self.name} is now rolling over\")       "
   ],
   "id": "8b64b106634e3942",
   "outputs": [],
   "execution_count": 18
  },
  {
   "metadata": {},
   "cell_type": "markdown",
   "source": "### 1、2根据类创建实例",
   "id": "eed691e669ae8ba7"
  },
  {
   "metadata": {
    "ExecuteTime": {
     "end_time": "2025-05-13T12:43:59.541493Z",
     "start_time": "2025-05-13T12:43:59.530771Z"
    }
   },
   "cell_type": "code",
   "source": [
    "from jupyter_DogClass import Dog        #也可以导入别人或自己创建的类（打包成包）\n",
    "my_dog = Dog('Willie', 6)        #创建一个实例\n",
    "\n",
    "my_dog.name     #访问属性\n",
    "\n",
    "my_dog.sit()\n"
   ],
   "id": "bc791bac782c8f80",
   "outputs": [
    {
     "ename": "TypeError",
     "evalue": "Dog() takes no arguments",
     "output_type": "error",
     "traceback": [
      "\u001B[1;31m---------------------------------------------------------------------------\u001B[0m",
      "\u001B[1;31mTypeError\u001B[0m                                 Traceback (most recent call last)",
      "Cell \u001B[1;32mIn[29], line 2\u001B[0m\n\u001B[0;32m      1\u001B[0m \u001B[38;5;28;01mfrom\u001B[39;00m\u001B[38;5;250m \u001B[39m\u001B[38;5;21;01mjupyter_DogClass\u001B[39;00m\u001B[38;5;250m \u001B[39m\u001B[38;5;28;01mimport\u001B[39;00m Dog        \u001B[38;5;66;03m#也可以导入别人或自己创建的类（打包成包）\u001B[39;00m\n\u001B[1;32m----> 2\u001B[0m my_dog \u001B[38;5;241m=\u001B[39m \u001B[43mDog\u001B[49m\u001B[43m(\u001B[49m\u001B[38;5;124;43m'\u001B[39;49m\u001B[38;5;124;43mWillie\u001B[39;49m\u001B[38;5;124;43m'\u001B[39;49m\u001B[43m,\u001B[49m\u001B[43m \u001B[49m\u001B[38;5;241;43m6\u001B[39;49m\u001B[43m)\u001B[49m        \u001B[38;5;66;03m#创建一个实例\u001B[39;00m\n\u001B[0;32m      4\u001B[0m my_dog\u001B[38;5;241m.\u001B[39mname     \u001B[38;5;66;03m#访问属性\u001B[39;00m\n\u001B[0;32m      6\u001B[0m my_dog\u001B[38;5;241m.\u001B[39msit()\n",
      "\u001B[1;31mTypeError\u001B[0m: Dog() takes no arguments"
     ]
    }
   ],
   "execution_count": 29
  },
  {
   "metadata": {},
   "cell_type": "code",
   "outputs": [],
   "execution_count": null,
   "source": "",
   "id": "8a9652048a39b45"
  }
 ],
 "metadata": {
  "kernelspec": {
   "display_name": "Python 3",
   "language": "python",
   "name": "python3"
  },
  "language_info": {
   "codemirror_mode": {
    "name": "ipython",
    "version": 2
   },
   "file_extension": ".py",
   "mimetype": "text/x-python",
   "name": "python",
   "nbconvert_exporter": "python",
   "pygments_lexer": "ipython2",
   "version": "2.7.6"
  }
 },
 "nbformat": 4,
 "nbformat_minor": 5
}
