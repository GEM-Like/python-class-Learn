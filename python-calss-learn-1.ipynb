{
 "cells": [
  {
   "metadata": {},
   "cell_type": "markdown",
   "source": "# 类",
   "id": "fd9e4170ac2f7c83"
  },
  {
   "metadata": {},
   "cell_type": "markdown",
   "source": "## 1创建和使用类",
   "id": "68dd097c46afed6a"
  },
  {
   "metadata": {},
   "cell_type": "markdown",
   "source": "### 创建Dog类",
   "id": "d3649d27662f5a83"
  },
  {
   "metadata": {
    "ExecuteTime": {
     "end_time": "2025-05-16T08:27:27.683072Z",
     "start_time": "2025-05-16T08:27:27.675564Z"
    }
   },
   "cell_type": "code",
   "source": [
    "class Dog:      #约定俗成单词首字母大写的为类名\n",
    "    \"\"\"一次模拟小狗的简单尝试\"\"\"       #文档字符串说明类\n",
    "\n",
    "    \"\"\"\n",
    "        __init__（）方法：\n",
    "        一个特殊方法，每次建立实例就会运行一次;\n",
    "        包含三个形参：self、name、age\n",
    "        self自动传递到类中的方法和属性，所以必须有self形参而且必须在第一个\n",
    "        注意注意！！！是双下划线 ！！！若写错方法则可能出现“Dog() takes no arguments”报错    \n",
    "    \"\"\"\n",
    "\n",
    "    def __init__(self,name,age):      \n",
    "        \"\"\"初始化属性name和age\"\"\"\n",
    "        self.name=name      #属性\n",
    "        self.age=age        #以self开头的变量可以在整个类中使用\n",
    "    def sit(self):\n",
    "        \"\"\"收到命令坐下\"\"\"\n",
    "        print(f\"{self.name} is now sitting\")\n",
    "    def roll_over(self):\n",
    "        \"\"\"收到命令打滚\"\"\"\n",
    "        print(f\"{self.name} is now rolling over\")       "
   ],
   "id": "8b64b106634e3942",
   "outputs": [],
   "execution_count": 2
  },
  {
   "metadata": {},
   "cell_type": "markdown",
   "source": "### 根据类创建实例",
   "id": "eed691e669ae8ba7"
  },
  {
   "metadata": {
    "ExecuteTime": {
     "end_time": "2025-05-16T08:27:27.754422Z",
     "start_time": "2025-05-16T08:27:27.749868Z"
    }
   },
   "cell_type": "code",
   "source": [
    "#from jupyter_DogClass import Dog        #也可以导入别人或自己创建的类（打包成包）\n",
    "my_dog = Dog('Willie', 6)        #创建一个实例\n",
    "\n",
    "my_dog.name          #访问属性\n",
    "my_dog.sit()            #调用定义的方法"
   ],
   "id": "bc791bac782c8f80",
   "outputs": [
    {
     "name": "stdout",
     "output_type": "stream",
     "text": [
      "Willie is now sitting\n"
     ]
    }
   ],
   "execution_count": 3
  },
  {
   "metadata": {},
   "cell_type": "markdown",
   "source": "#### 第二种导入类的方法  ",
   "id": "455445dbdba89f11"
  },
  {
   "metadata": {
    "ExecuteTime": {
     "end_time": "2025-05-16T08:27:27.767902Z",
     "start_time": "2025-05-16T08:27:27.756392Z"
    }
   },
   "cell_type": "code",
   "source": [
    "# import jupyter_DogClass    #也可以导入别人或自己创建的类（打包成包）\n",
    "# my_dog = jupyter_DogClass.Dog('Willie', 6)        #创建一个实例\n",
    "# my_dog.name     #访问属性"
   ],
   "id": "fafaff152df488f9",
   "outputs": [],
   "execution_count": 4
  },
  {
   "metadata": {
    "ExecuteTime": {
     "end_time": "2025-05-16T08:27:27.779413Z",
     "start_time": "2025-05-16T08:27:27.768906Z"
    }
   },
   "cell_type": "code",
   "source": [
    "my_dog1 = Dog('Willi', 6)\n",
    "my_dog2 = Dog('Will', 5)\n",
    "my_dog3 = Dog('Wil', 4)     #可以创建多个实例"
   ],
   "id": "15356cc648b7fb8d",
   "outputs": [],
   "execution_count": 5
  },
  {
   "metadata": {},
   "cell_type": "markdown",
   "source": "## 2、使用类和实例",
   "id": "3aeb61f7272cd624"
  },
  {
   "metadata": {},
   "cell_type": "markdown",
   "source": "### Car类",
   "id": "17062f6a8da0f802"
  },
  {
   "metadata": {
    "ExecuteTime": {
     "end_time": "2025-05-16T08:27:27.786930Z",
     "start_time": "2025-05-16T08:27:27.780416Z"
    }
   },
   "cell_type": "code",
   "source": [
    "class Car:\n",
    "    \"\"\"模拟汽车\"\"\"\n",
    "    def __init__(self,make,model,year):\n",
    "        \"\"\"汽车属性\"\"\"\n",
    "        self.make=make\n",
    "        self.model=model\n",
    "        self.year=year\n",
    "    def get_descriptive_name(self):     #定义一个规范化格式的方法，对属性值创建一个字符串\n",
    "        \"\"\"返回格式规范的格式化信息\"\"\"\n",
    "        long_name=f\"{self.make} {self.model}\"       \n",
    "        return long_name.title()        #返回一个标题格式的字符串"
   ],
   "id": "d5d9e62b9e1a5e76",
   "outputs": [],
   "execution_count": 6
  },
  {
   "metadata": {
    "ExecuteTime": {
     "end_time": "2025-05-16T08:27:27.796446Z",
     "start_time": "2025-05-16T08:27:27.787932Z"
    }
   },
   "cell_type": "code",
   "source": [
    "my_car = Car('Ford','BMW','2021')\n",
    "print(my_car.get_descriptive_name())"
   ],
   "id": "7be9fcce194177ce",
   "outputs": [
    {
     "name": "stdout",
     "output_type": "stream",
     "text": [
      "Ford Bmw\n"
     ]
    }
   ],
   "execution_count": 7
  },
  {
   "metadata": {},
   "cell_type": "markdown",
   "source": "### 给属性指定默认值",
   "id": "89de6f440ddd846a"
  },
  {
   "metadata": {
    "ExecuteTime": {
     "end_time": "2025-05-16T08:27:27.804969Z",
     "start_time": "2025-05-16T08:27:27.797446Z"
    }
   },
   "cell_type": "code",
   "source": [
    "class Car:\n",
    "    \"\"\"模拟汽车\"\"\"\n",
    "    def __init__(self,make,model,year):\n",
    "        \"\"\"汽车属性\"\"\"\n",
    "        self.make=make\n",
    "        self.model=model\n",
    "        self.year=year\n",
    "        self.odometer_counter=10086      #加入公里数这个默认值\n",
    "    def get_descriptive_name(self):    \n",
    "        \"\"\"返回格式规范的格式化信息\"\"\"\n",
    "        long_name=f\"{self.make} {self.model}\"       \n",
    "        return long_name.title()       \n",
    "    def read_odometer(self):\n",
    "        \"\"\"打印公里数\"\"\"\n",
    "        print(f\"{self.odometer_counter}\")\n",
    "    \n",
    "my_car = Car('Ford','BMW','2021')\n",
    "my_car.read_odometer()"
   ],
   "id": "dc9242335d6fe4d",
   "outputs": [
    {
     "name": "stdout",
     "output_type": "stream",
     "text": [
      "10086\n"
     ]
    }
   ],
   "execution_count": 8
  },
  {
   "metadata": {},
   "cell_type": "markdown",
   "source": "### 修改属性值",
   "id": "326263c1efa313c4"
  },
  {
   "metadata": {
    "ExecuteTime": {
     "end_time": "2025-05-16T08:27:27.895404Z",
     "start_time": "2025-05-16T08:27:27.891888Z"
    }
   },
   "cell_type": "code",
   "source": "my_car.odometer_counter = 110119        #直接修改",
   "id": "ba10c6bf31624e0f",
   "outputs": [],
   "execution_count": 9
  },
  {
   "metadata": {
    "ExecuteTime": {
     "end_time": "2025-05-16T08:27:27.930461Z",
     "start_time": "2025-05-16T08:27:27.921946Z"
    }
   },
   "cell_type": "code",
   "source": [
    "#通过建立方法修改属性的值\n",
    "class Car:\n",
    "    \"\"\"模拟汽车\"\"\"\n",
    "    def __init__(self,make,model,year):\n",
    "        \"\"\"汽车属性\"\"\"\n",
    "        self.make=make\n",
    "        self.model=model\n",
    "        self.year=year\n",
    "        self.odometer_counter=10086     \n",
    "    def get_descriptive_name(self):    \n",
    "        \"\"\"返回格式规范的格式化信息\"\"\"\n",
    "        long_name=f\"{self.make} {self.model}\"       \n",
    "        return long_name.title()       \n",
    "    def read_odometer(self):\n",
    "        \"\"\"打印公里数\"\"\"\n",
    "        print(f\"{self.odometer_counter}\")\n",
    "        \n",
    "    \"\"\"建立update_odometer方法\"\"\"\n",
    "    def update_odometer(self,new_odometer):\n",
    "        self.odometer_counter = new_odometer\n",
    "    \n",
    "    \n",
    "my_car = Car('Ford','BMW','2021')\n",
    "my_car.update_odometer(100)\n",
    "my_car.odometer_counter"
   ],
   "id": "8a2d95cd4abb9a",
   "outputs": [
    {
     "data": {
      "text/plain": [
       "100"
      ]
     },
     "execution_count": 10,
     "metadata": {},
     "output_type": "execute_result"
    }
   ],
   "execution_count": 10
  },
  {
   "metadata": {},
   "cell_type": "markdown",
   "source": "## 3、继承",
   "id": "8df9d7fea31805bb"
  },
  {
   "metadata": {
    "ExecuteTime": {
     "end_time": "2025-05-16T08:27:27.965588Z",
     "start_time": "2025-05-16T08:27:27.960063Z"
    }
   },
   "cell_type": "code",
   "source": [
    "\"\"\"\n",
    "编写一个类的特殊版本时可以使用“继承”\n",
    "原有的类成为“父类”\n",
    "新类成为“子类”\n",
    "\"\"\""
   ],
   "id": "b75005e7b96634c3",
   "outputs": [
    {
     "data": {
      "text/plain": [
       "'\\n编写一个类的特殊版本时可以使用“继承”\\n原有的类成为“父类”\\n新类成为“子类”\\n'"
      ]
     },
     "execution_count": 11,
     "metadata": {},
     "output_type": "execute_result"
    }
   ],
   "execution_count": 11
  },
  {
   "metadata": {},
   "cell_type": "markdown",
   "source": "### 子类的__init__()方法",
   "id": "a9930a8f6629e49b"
  },
  {
   "metadata": {
    "ExecuteTime": {
     "end_time": "2025-05-16T08:41:11.110394Z",
     "start_time": "2025-05-16T08:41:11.104874Z"
    }
   },
   "cell_type": "code",
   "source": [
    "\"\"\"\n",
    "在既有类的基础上编写类，通常要调用父类的__init__()方法，这将初始化父类init方法中定义的所有属性\n",
    "\"\"\"\n",
    "\n",
    "#父类：\n",
    "class Car:\n",
    "    \"\"\"模拟汽车\"\"\"\n",
    "    def __init__(self,make,model,year):\n",
    "        \"\"\"汽车属性\"\"\"\n",
    "        self.make=make\n",
    "        self.model=model\n",
    "        self.year=year\n",
    "        self.odometer_counter=10086     \n",
    "    def get_descriptive_name(self):    \n",
    "        \"\"\"返回格式规范的格式化信息\"\"\"\n",
    "        long_name=f\"{self.make} {self.model} {self.year} {self.odometer_counter}\"       \n",
    "        return long_name.title()       \n",
    "    def read_odometer(self):\n",
    "        \"\"\"打印公里数\"\"\"\n",
    "        print(f\"{self.odometer_counter}\")\n",
    "    def update_odometer(self,new_odometer):\n",
    "        \"\"\"建立update_odometer方法\"\"\"\n",
    "        self.odometer_counter = new_odometer\n",
    "\n",
    "class ElectricCar(Car):                         #定义子类时，必须在括号内指定父类的名称\n",
    "    \"\"\"模拟电动汽车作为父类“Car”的子类\"\"\"\n",
    "    def __init__(self,make,model,year): \n",
    "        \"\"\"初始化父类的属性\"\"\"\n",
    "        super().__init__(make,model,year)       #super是一个特殊的函数，可以使你调用父类的方法（函数名称来源于父类称作superclass）\n",
    "        \n",
    "my_new_car = ElectricCar('China','BYD','2024')\n",
    "print(my_new_car.get_descriptive_name())"
   ],
   "id": "ab0d860ba3deba1",
   "outputs": [
    {
     "name": "stdout",
     "output_type": "stream",
     "text": [
      "China Byd 2024 10086\n"
     ]
    }
   ],
   "execution_count": 19
  },
  {
   "metadata": {},
   "cell_type": "markdown",
   "source": "### 给子类定义属性和方法",
   "id": "a004a20a7c329f4"
  },
  {
   "metadata": {
    "ExecuteTime": {
     "end_time": "2025-05-16T08:48:38.375987Z",
     "start_time": "2025-05-16T08:48:38.371472Z"
    }
   },
   "cell_type": "code",
   "source": [
    "class ElectricCar(Car):                 \n",
    "    \"\"\"模拟电动汽车作为父类“Car”的子类\"\"\"\n",
    "    def __init__(self,make,model,year,battery_size):  \n",
    "        \"\"\"初始化父类的属性\"\"\"\n",
    "        super().__init__(make,model,year)       \n",
    "        \"\"\"初始化子类特有的属性\"\"\"\n",
    "        self.battery_size = battery_size\n",
    "    \"\"\"初始化子类的方法\"\"\"\n",
    "    def describe_battery(self):\n",
    "        \"\"\"打印一条电池容量的信息\"\"\"\n",
    "        print(f\"This Car has a {self.battery_size}-kwh battery.\")\n",
    "my_new_car = ElectricCar('China','BYD','2024',40)\n",
    "my_new_car.describe_battery()\n"
   ],
   "id": "15e545a6e4de754a",
   "outputs": [
    {
     "name": "stdout",
     "output_type": "stream",
     "text": [
      "This Car has a 40-kwh battery.\n"
     ]
    }
   ],
   "execution_count": 22
  },
  {
   "metadata": {},
   "cell_type": "markdown",
   "source": "### 重写父类的方法",
   "id": "cc2b2675e999a055"
  },
  {
   "metadata": {
    "ExecuteTime": {
     "end_time": "2025-05-16T08:55:02.427464Z",
     "start_time": "2025-05-16T08:55:02.420456Z"
    }
   },
   "cell_type": "code",
   "source": [
    "\"\"\"\n",
    "如果父类原来定义的方法不能够满足需求，则可以在子类中写一个名称与父类方法一样的方法，从而覆盖掉父类原来的方法，如：覆盖掉父类get_descriptive_name(self)方法\n",
    "\"\"\"\n",
    "\n",
    "class ElectricCar(Car):                       \n",
    "    \"\"\"模拟电动汽车作为父类“Car”的子类\"\"\"\n",
    "    def __init__(self,make,model,year): \n",
    "        \"\"\"初始化父类的属性\"\"\"\n",
    "        super().__init__(make,model,year)\n",
    "        self.battery_size = 40              #暂时初始化电池容量为40\n",
    "    def get_descriptive_name(self):    \n",
    "        \"\"\"返回格式规范的格式化信息\"\"\"\n",
    "        \"\"\"重写父类方法，在格式化信息中加入电池信息\"\"\"\n",
    "        long_name=f\"{self.make} {self.model} {self.year} {self.odometer_counter} {self.battery_size}\"     \n",
    "        return long_name.title()\n",
    "    \n",
    "my_new_car = ElectricCar('China','BYD','2024')\n",
    "my_new_car.get_descriptive_name()"
   ],
   "id": "7be7d9d183d4dce6",
   "outputs": [
    {
     "data": {
      "text/plain": [
       "'China Byd 2024 10086 40'"
      ]
     },
     "execution_count": 24,
     "metadata": {},
     "output_type": "execute_result"
    }
   ],
   "execution_count": 24
  },
  {
   "metadata": {},
   "cell_type": "markdown",
   "source": "### 类的组合（将实利用作属性）",
   "id": "12f6baf6825fb8d7"
  },
  {
   "metadata": {},
   "cell_type": "code",
   "outputs": [],
   "execution_count": null,
   "source": "",
   "id": "678589264080632c"
  }
 ],
 "metadata": {
  "kernelspec": {
   "display_name": "Python 3",
   "language": "python",
   "name": "python3"
  },
  "language_info": {
   "codemirror_mode": {
    "name": "ipython",
    "version": 2
   },
   "file_extension": ".py",
   "mimetype": "text/x-python",
   "name": "python",
   "nbconvert_exporter": "python",
   "pygments_lexer": "ipython2",
   "version": "2.7.6"
  }
 },
 "nbformat": 4,
 "nbformat_minor": 5
}
